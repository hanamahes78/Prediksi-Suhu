version https://git-lfs.github.com/spec/v1
oid sha256:48da028e70a6d93f1e27f76d0dbee895e275bdcc6b11b84f44eae69076b6ac10
size 58252796
