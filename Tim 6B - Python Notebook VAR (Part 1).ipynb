version https://git-lfs.github.com/spec/v1
oid sha256:331dfcc7d435b30bd205dfacdf5e11c6d50e449802c2b84d6532fdd88f3b32a6
size 135472612
